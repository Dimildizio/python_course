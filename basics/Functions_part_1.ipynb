{
  "cells": [
    {
      "cell_type": "markdown",
      "metadata": {
        "id": "view-in-github",
        "colab_type": "text"
      },
      "source": [
        "<a href=\"https://colab.research.google.com/github/Dimildizio/python_course/blob/main/basics/Functions_part_1.ipynb\" target=\"_parent\"><img src=\"https://colab.research.google.com/assets/colab-badge.svg\" alt=\"Open In Colab\"/></a>"
      ]
    },
    {
      "cell_type": "markdown",
      "id": "4096393c",
      "metadata": {
        "id": "4096393c"
      },
      "source": [
        "\n",
        "# Python Функции"
      ]
    },
    {
      "cell_type": "markdown",
      "id": "8ac9bc01",
      "metadata": {
        "id": "8ac9bc01"
      },
      "source": [
        "\n",
        "## Темы:\n",
        "\n",
        "1. `return` и область видимости (LEGB), локальные/глобальные переменные  \n",
        "2. Позиционные аргументы и значения по умолчанию (ловушка с изменяемыми)  \n",
        "3. Именованные (keyword) аргументы и keyword-only  \n",
        "4. `*args` и `**kwargs`: упаковка и распаковка аргументов  \n",
        "5. Функции как объекты: передача/возврат, `lambda`, замыкания (`nonlocal`)  \n"
      ]
    },
    {
      "cell_type": "markdown",
      "id": "7659d7ae",
      "metadata": {
        "id": "7659d7ae"
      },
      "source": [
        "\n",
        "## 1) `return` и область видимости (scope)\n",
        "\n",
        "**Теория:**\n",
        "- Функция объявляется через `def`. Если нет `return`, функция возвращает `None`.\n",
        "- `return` **сразу** завершает функцию и отдаёт значение.\n",
        "- Области видимости (LEGB):\n",
        "  - **L**ocal — имена внутри функции,\n",
        "  - **E**nclosing — внешние области вложенных функций,\n",
        "  - **G**lobal — имена модуля (файла),\n",
        "  - **B**uiltins — встроенные имена Python.\n",
        "- Глобальные переменные менять из функции не стоит. Возвращайте новые значения и присваивайте их снаружи.\n"
      ]
    },
    {
      "cell_type": "markdown",
      "source": [
        "#### Пример\n",
        "считаем урон и золото партии"
      ],
      "metadata": {
        "id": "_nupikZaT3ch"
      },
      "id": "_nupikZaT3ch"
    },
    {
      "cell_type": "code",
      "execution_count": null,
      "id": "78a7a80e",
      "metadata": {
        "id": "78a7a80e"
      },
      "outputs": [],
      "source": [
        "def compute_damage(base: int, bonus: int) -> int:\n",
        "    \"\"\"Возвращает суммарный урон героя.\n",
        "    base — урон оружия; bonus — модификатор (например, STR модификатор или бафф).\n",
        "    \"\"\"\n",
        "    total = base + bonus\n",
        "    return total\n",
        "\n",
        "\n",
        "# Проверка примера:\n",
        "assert compute_damage(8, 3) == 11, \"compute_damage должен вернуть 11 при (8, 3)\"\n"
      ]
    },
    {
      "cell_type": "code",
      "source": [
        "party_gold = 100  # глобальное золото пати\n",
        "\n",
        "\n",
        "def spend_gold_safely(cost: int) -> int:\n",
        "    \"\"\"Правильный способ - посчитать новый баланс и вернуть его.\"\"\"\n",
        "    new_amount = party_gold - cost   # читаем глобальную переменную (не меняем)\n",
        "    return new_amount\n",
        "\n",
        "\n",
        "# Проверка примера:\n",
        "assert spend_gold_safely(25) == 75, \"При party_gold=100 spend_gold_safely(25) должно дать 75\"\n",
        "assert party_gold == 100, \"Глобальное золото не должно меняться в примере\"\n",
        "\n",
        "\n",
        "# Плохая идея менять глобальную переменную внутри без необходимости:\n",
        "def spend_gold_bad(cost: int):\n",
        "    # global party_gold  # так можно, но лучше избегать\n",
        "    # party_gold -= cost\n",
        "    # return party_gold\n",
        "    pass  # Антипаттерн: лучше возвращать и присваивать снаружи\n",
        "\n",
        "\n",
        "# Правильно - переопределить, вызвав функци и вернуть результат в переменную\n",
        "party_gold = spend_gold_safely(25)\n",
        "assert party_gold == 75, \"Глобальное золото должно измениться в примере\"\n",
        "\n",
        "print(\"Базовые assert пройдены.\")"
      ],
      "metadata": {
        "id": "qwudszBJT_V1"
      },
      "id": "qwudszBJT_V1",
      "execution_count": null,
      "outputs": []
    },
    {
      "cell_type": "markdown",
      "id": "89a9e192",
      "metadata": {
        "id": "89a9e192"
      },
      "source": [
        "\n",
        "**Задание:**  \n",
        "Напишите функцию `clamp_hp(current_hp: int, max_hp: int) -> int`, которая возвращает корректные HP героя:  \n",
        "- если `current_hp < 0` → вернуть `0`,  \n",
        "- если `current_hp > max_hp` → вернуть `max_hp`,  \n",
        "- иначе вернуть `current_hp` как есть.\n",
        "\n",
        "**Требование:** никаких глобальных изменений, только `return`.  \n",
        "Ниже - тесты `assert`, которые должны проходить.\n"
      ]
    },
    {
      "cell_type": "code",
      "execution_count": null,
      "id": "3bb8b91f",
      "metadata": {
        "id": "3bb8b91f"
      },
      "outputs": [],
      "source": [
        "# ВАШЕ РЕШЕНИЕ\n",
        "def clamp_hp(current_hp: int, max_hp: int) -> int:\n",
        "    # TODO: верните HP в диапазоне [0, max_hp]\n",
        "    # Подсказка: используйте ранние return\n",
        "    return None  # <-- временная заглушка\n",
        "\n",
        "# ТЕСТЫ: раскомментируйте после реализации или оставьте — они покажут, что нужно исправить\n",
        "assert clamp_hp(-5, 20) == 0\n",
        "assert clamp_hp(15, 20) == 15\n",
        "assert clamp_hp(30, 20) == 20\n",
        "print(\"Задание 1 — assert пройдены (если вы это видите).\")"
      ]
    },
    {
      "cell_type": "markdown",
      "id": "9543e4fd",
      "metadata": {
        "id": "9543e4fd"
      },
      "source": [
        "\n",
        "#### **Разбор/решение:**  \n"
      ]
    },
    {
      "cell_type": "markdown",
      "source": [
        "Последовательные проверки и ранний `return` без побочных эффектов."
      ],
      "metadata": {
        "id": "VnWHK1BciaD7"
      },
      "id": "VnWHK1BciaD7"
    },
    {
      "cell_type": "code",
      "execution_count": null,
      "id": "6b8ee0c2",
      "metadata": {
        "id": "6b8ee0c2"
      },
      "outputs": [],
      "source": [
        "def clamp_hp(current_hp: int, max_hp: int) -> int:\n",
        "  # Также можно использовать min(current_hp, max_hp), max(current_hp, 0)\n",
        "    if current_hp < 0:\n",
        "        return 0\n",
        "    if current_hp > max_hp:\n",
        "        return max_hp\n",
        "    return current_hp\n",
        "\n",
        "assert clamp_hp(-5, 20) == 0\n",
        "assert clamp_hp(15, 20) == 15\n",
        "assert clamp_hp(30, 20) == 20\n",
        "print(\"Разбор 1 — assert пройдены.\")"
      ]
    },
    {
      "cell_type": "markdown",
      "id": "321be13b",
      "metadata": {
        "id": "321be13b"
      },
      "source": [
        "\n",
        "## 2) Позиционные аргументы и значения по умолчанию\n",
        "\n",
        "**Теория**\n",
        "- Позиционные аргументы передаются по порядку: `f(оружие, цель)`.\n",
        "- Значения по умолчанию: `def f(a, b=10): ...`.\n",
        "- **Опасность:** изменяемые значения по умолчанию (списки/словари) **сохраняются между вызовами**.\n",
        "  Шаблон-спаситель:\n",
        "  ```python\n",
        "  def f(x, items=None):\n",
        "      if items is None:\n",
        "          items = []\n",
        "  ```\n",
        "  Пояснение: если бы мы передавали список - то, поскольку он изменяем и определен\\создан в момент определния функции (а не вызова), то он един для всех вызовов функции, таким образом лучше использовать шаблон с None где изменяемый тип определяется уже только в локлаьной области видимости\n"
      ]
    },
    {
      "cell_type": "code",
      "source": [
        "def cast_spell(spell: str, target: str, level: int = 1) -> str:\n",
        "    return f\"{spell} (ур. {level}) попадает по {target}!\"\n",
        "\n",
        "assert cast_spell(\"Magic Missile\", \"гоблину\") == \"Magic Missile (ур. 1) попадает по гоблину!\"\n",
        "assert cast_spell(\"Fireball\", \"оркам\", 3) == \"Fireball (ур. 3) попадает по оркам!\""
      ],
      "metadata": {
        "id": "haMxybiJVfqw"
      },
      "id": "haMxybiJVfqw",
      "execution_count": null,
      "outputs": []
    },
    {
      "cell_type": "code",
      "execution_count": null,
      "id": "b4ad4e0e",
      "metadata": {
        "id": "b4ad4e0e"
      },
      "outputs": [],
      "source": [
        "# Ловушка: сумка лута как значение по умолчанию (АНТИПАТТЕРН)\n",
        "def add_loot(item: str, bag=[]):  # НЕ РЕКОМЕНДУЕТСЯ\n",
        "    bag.append(item)\n",
        "    return bag\n",
        "\n",
        "loot_a = add_loot(\"зелье лечения\")\n",
        "loot_b = add_loot(\"серебряная монета\")\n",
        "assert loot_a is loot_b, \"Список по умолчанию один и тот же — это ловушка!\"\n",
        "assert loot_b == [\"зелье лечения\", \"серебряная монета\"]\n",
        "\n",
        "# Правильно:\n",
        "def add_loot_safe(item: str, bag=None):\n",
        "    if bag is None:\n",
        "        bag = []\n",
        "    bag.append(item)\n",
        "    return bag\n",
        "\n",
        "safe1 = add_loot_safe(\"тропа эльфов\")\n",
        "safe2 = add_loot_safe(\"кольцо защиты\")\n",
        "assert safe1 == [\"тропа эльфов\"] and safe2 == [\"кольцо защиты\"]\n",
        "\n",
        "print(\"раздела 2 assert пройдены.\")"
      ]
    },
    {
      "cell_type": "markdown",
      "id": "f1c8c032",
      "metadata": {
        "id": "f1c8c032"
      },
      "source": [
        "\n",
        "**Задание:**  \n",
        "Напишите `def battle_cry(phrase: str, times: int = 3, sep: str = ' / ') -> str`,  \n",
        "которая повторяет боевой клич героя заданное число раз, соединяя через `sep`.\n",
        "\n",
        "Ниже — тесты `assert`.\n"
      ]
    },
    {
      "cell_type": "code",
      "execution_count": null,
      "id": "ad50be0f",
      "metadata": {
        "id": "ad50be0f"
      },
      "outputs": [],
      "source": [
        "# ВАШЕ РЕШЕНИЕ\n",
        "def battle_cry() -> str:\n",
        "    # TODO: верните строку с повторяющимся боевым кличем\n",
        "    return \"\"  # заглушка\n",
        "\n",
        "# ТЕСТЫ\n",
        "assert battle_ry := battle_cry(\"За Циридана\", 2, \" | \") == \"За Циридана | За Циридана\"\n",
        "assert battle_cry(\"В атаку!\") == \"В атаку! / В атаку! / В атаку!\"\n",
        "print(\"Задание 2 assert пройдены\")"
      ]
    },
    {
      "cell_type": "markdown",
      "id": "1693d75d",
      "metadata": {
        "id": "1693d75d"
      },
      "source": [
        "\n",
        "#### **Разбор/решение:**  \n"
      ]
    },
    {
      "cell_type": "markdown",
      "source": [
        "Удобно использовать `sep.join([phrase] * times)`."
      ],
      "metadata": {
        "id": "8Mpm1dLXiVVn"
      },
      "id": "8Mpm1dLXiVVn"
    },
    {
      "cell_type": "code",
      "execution_count": null,
      "id": "81387d6e",
      "metadata": {
        "id": "81387d6e"
      },
      "outputs": [],
      "source": [
        "def battle_cry(phrase: str, times: int = 3, sep: str = ' / ') -> str:\n",
        "    return sep.join([phrase] * times)\n",
        "\n",
        "assert battle_cry(\"За Лордерон\", 2, \" | \") == \"За Лордерон | За Лордерон\"\n",
        "assert battle_cry(\"В атаку!\") == \"В атаку! / В атаку! / В атаку!\"\n",
        "print(\"Разбор 2 — assert пройдены.\")"
      ]
    },
    {
      "cell_type": "markdown",
      "id": "efdf5fcc",
      "metadata": {
        "id": "efdf5fcc"
      },
      "source": [
        "\n",
        "## 3) Именованные (keyword) аргументы и keyword-only\n",
        "\n",
        "**Теория**\n",
        "- Именованные аргументы повышают читаемость: `create_character(name=\"Lia\", race=\"Elf\", cls=\"Rogue\")`.\n",
        "- Порядок вызова: сначала позиционные(!), затем именованные (могут быть в разном порядке).\n",
        "- **Keyword-only** параметры (только по имени) объявляются после `*` в сигнатуре.\n"
      ]
    },
    {
      "cell_type": "code",
      "execution_count": null,
      "id": "4dd69abf",
      "metadata": {
        "id": "4dd69abf"
      },
      "outputs": [],
      "source": [
        "Создание персонажа и атака\n",
        "def create_character(name: str, *, race: str, cls: str, level: int = 1) -> str:\n",
        "    return f\"{name} - {race} {cls}, ур. {level}\"\n",
        "\n",
        "assert create_character(\"Lia\", race=\"Elf\", cls=\"Rogue\", level=3) == \"Lia - Elf Rogue, ур. 3\""
      ]
    },
    {
      "cell_type": "code",
      "source": [
        "\n",
        "def attack(name: str, target: str, *, advantage: bool = False, bonus: int = 0) -> str:\n",
        "    note = \" с преимуществом\" if advantage else \"\"\n",
        "    return f\"{name} атакует {target}{note} (бонус {bonus}).\"\n",
        "\n",
        "assert attack(\"Borin\", \"тролля\", advantage=True, bonus=2) == \"Borin атакует тролля с преимуществом (бонус 2).\"\n",
        "\n",
        "print(\"Примеры 3 раздела - assert пройдены.\")"
      ],
      "metadata": {
        "id": "KKklbU-6ix1X"
      },
      "id": "KKklbU-6ix1X",
      "execution_count": null,
      "outputs": []
    },
    {
      "cell_type": "markdown",
      "id": "8930fce7",
      "metadata": {
        "id": "8930fce7"
      },
      "source": [
        "\n",
        "**Задание:**  \n",
        "Напишите `def spell_save_dc(*, proficiency: int, ability_mod: int) -> int`,  \n",
        "которая возвращает **Spell Save DC**: `8 + proficiency + ability_mod`.\n",
        "\n",
        "Обращаем внимание на `*`"
      ]
    },
    {
      "cell_type": "code",
      "execution_count": null,
      "id": "24c7574a",
      "metadata": {
        "id": "24c7574a"
      },
      "outputs": [],
      "source": [
        "# ВАШЕ РЕШЕНИЕ\n",
        "def spell_save_dc(*, proficiency: int, ability_mod: int) -> int:\n",
        "    # TODO: верните целое число DC\n",
        "    return -1  # заглушка\n",
        "\n",
        "# ТЕСТЫ\n",
        "assert spell_save_dc(proficiency=3, ability_mod=4) == 15\n",
        "assert spell_save_dc(ability_mod=5, proficiency=2) == 15\n",
        "print(\"Задание 3 - assert пройдены.\")"
      ]
    },
    {
      "cell_type": "markdown",
      "id": "681ef6d8",
      "metadata": {
        "id": "681ef6d8"
      },
      "source": [
        "\n",
        "#### **Разбор/решение:**  \n"
      ]
    },
    {
      "cell_type": "markdown",
      "source": [
        "Keyword-only параметры снижают шанс перепутать порядок и типы аргументов."
      ],
      "metadata": {
        "id": "n6MvQeHgjLo-"
      },
      "id": "n6MvQeHgjLo-"
    },
    {
      "cell_type": "code",
      "execution_count": null,
      "id": "98451c28",
      "metadata": {
        "id": "98451c28"
      },
      "outputs": [],
      "source": [
        "def spell_save_dc(*, proficiency: int, ability_mod: int) -> int:\n",
        "    return 8 + proficiency + ability_mod\n",
        "\n",
        "assert spell_save_dc(proficiency=3, ability_mod=4) == 15\n",
        "assert spell_save_dc(ability_mod=5, proficiency=2) == 15\n",
        "print(\"Разбор 3 — assert пройдены.\")"
      ]
    },
    {
      "cell_type": "markdown",
      "id": "ab19a9eb",
      "metadata": {
        "id": "ab19a9eb"
      },
      "source": [
        "\n",
        "## 4) `*args` и `**kwargs`: упаковка/распаковка\n",
        "\n",
        "**Теория:**\n",
        "- `*args` собирает дополнительные **позиционные** аргументы в кортеж.\n",
        "- `**kwargs` собирает дополнительные **именованные** аргументы в словарь.\n",
        "- Распаковка: `f(*seq)` и `g(**dict)` - удобно прокидывать параметры дальше.\n"
      ]
    },
    {
      "cell_type": "code",
      "execution_count": null,
      "id": "0d88f499",
      "metadata": {
        "id": "0d88f499"
      },
      "outputs": [],
      "source": [
        "# Пример: суммарный урон с модификаторами\n",
        "def total_damage(*hits: int, crit: bool = False, **mods):\n",
        "    \"\"\"Суммируем урон по ударам. Модификаторы (mods) добавляются в конце.\n",
        "    Примеры mods: rage=2, hex=1, favored_foe=1\n",
        "    \"\"\"\n",
        "    base = sum(hits)\n",
        "    if crit:\n",
        "        base *= 2\n",
        "    extra = sum(mods.values()) if mods else 0\n",
        "    return base + extra\n",
        "\n",
        "\n",
        "assert total_damage(5, 7, 4, crit=True, rage=2, hex=1) == 31  # (5+7+4)*2 + (2+1)\n",
        "\n",
        "hits = [3, 6, 2]\n",
        "mods = {\"bless\": 1, \"hunter_mark\": 2}\n",
        "\n",
        "assert total_damage(*hits, **mods) == 14  # 11 + 3\n",
        "print(\"Примеры 4 раздела - assert пройдены.\")"
      ]
    },
    {
      "cell_type": "markdown",
      "id": "39c25a18",
      "metadata": {
        "id": "39c25a18"
      },
      "source": [
        "\n",
        "**Задание:**  \n",
        "Реализуйте `def mean_initiative(*rolls, ignore_none: bool = True) -> float | None`,  \n",
        "которая считает среднее значение инициативы (например, бросков `d20`).  \n",
        "Если `ignore_none=True`, пропускайте `None`. Если после фильтрации нет значений — верните `None`.\n",
        "\n",
        "Ниже — тесты `assert`.\n"
      ]
    },
    {
      "cell_type": "code",
      "execution_count": null,
      "id": "a510db60",
      "metadata": {
        "id": "a510db60"
      },
      "outputs": [],
      "source": [
        "# ВАШЕ РЕШЕНИЕ\n",
        "def mean_initiative(*rolls, ignore_none: bool = True):\n",
        "    # TODO: посчитать среднее по броскам инициативы\n",
        "    return None  # заглушка\n",
        "\n",
        "\n",
        "# ТЕСТЫ\n",
        "val1 = mean_initiative(12, 18, 7)\n",
        "val2 = mean_initiative(20, None, 10)\n",
        "val3 = mean_initiative(None, None, ignore_none=True)\n",
        "\n",
        "\n",
        "assert isinstance(val1, (float, int)) and abs(val1 - (12+18+7)/3) < 1e-9\n",
        "assert isinstance(val2, (float, int)) and abs(val2 - (20+10)/2) < 1e-9\n",
        "assert val3 is None\n",
        "\n",
        "print(\"Задание 4 - assert пройдены.\")"
      ]
    },
    {
      "cell_type": "markdown",
      "id": "96e845b5",
      "metadata": {
        "id": "96e845b5"
      },
      "source": [
        "\n",
        "#### **Разбор/решение:**  \n"
      ]
    },
    {
      "cell_type": "markdown",
      "source": [
        "Отфильтруйте входные данные и корректно обработайте пустой список."
      ],
      "metadata": {
        "id": "42Y_WYSvl2VY"
      },
      "id": "42Y_WYSvl2VY"
    },
    {
      "cell_type": "code",
      "execution_count": null,
      "id": "4cb81e25",
      "metadata": {
        "id": "4cb81e25"
      },
      "outputs": [],
      "source": [
        "from typing import Optional\n",
        "\n",
        "\n",
        "def mean_initiative(*rolls, ignore_none: bool = True) -> Optional[float]:\n",
        "    values = []\n",
        "    for r in rolls:\n",
        "        if r is None and ignore_none:\n",
        "            continue\n",
        "        values.append(r)\n",
        "    if not values:\n",
        "        return None\n",
        "    return sum(values) / len(values)\n",
        "\n",
        "\n",
        "assert abs(mean_initiative(12, 18, 7) - (12+18+7)/3) < 1e-9\n",
        "assert abs(mean_initiative(20, None, 10) - (20+10)/2) < 1e-9\n",
        "assert mean_initiative(None, None, ignore_none=True) is None\n",
        "print(\"Решение 4 - assert пройдены.\")"
      ]
    },
    {
      "cell_type": "markdown",
      "id": "228dd9ec",
      "metadata": {
        "id": "228dd9ec"
      },
      "source": [
        "\n",
        "## 5) Функции как объекты: передача/возврат, `lambda`, замыкания (`nonlocal`)\n"
      ]
    },
    {
      "cell_type": "markdown",
      "source": [
        "\n",
        "**Теория:**\n",
        "- Функции - объекты класса: их можно передавать, хранить, возвращать.\n",
        "- `lambda` - краткая форма объявления анонимной функции.\n",
        "- Замыкание: внутренняя функция (определяем функцию внутри функции) \"помнит\" переменные внешней.\n",
        "- `nonlocal` позволяет изменять переменную внешней функции.\n",
        "\n",
        "`global` меняет переменную которую видят все функции и классы, а `nonlocal` - только переменную \"родительской функции\" которую видит только родительская и \"дочерние\" функции\n",
        "\n",
        "**Зачем надо замыкание?**\n",
        "\n",
        "- Хранить состояние без глобальных переменных и классов.\n",
        "\n",
        "- Создавать “фабрики функций” - заранее подготавливать функцию с определёнными параметрами (Один из паттернов порграммирования).\n",
        "\n",
        "- Инкапсулировать данные - держать какие-то значения скрытыми внутри функции, чтобы к ним нельзя было достучаться напрямую."
      ],
      "metadata": {
        "id": "IWZwPtzenqbN"
      },
      "id": "IWZwPtzenqbN"
    },
    {
      "cell_type": "code",
      "execution_count": null,
      "id": "f5a2e5ab",
      "metadata": {
        "id": "f5a2e5ab"
      },
      "outputs": [],
      "source": [
        "def apply_effect(effect_func, value):\n",
        "    \"\"\"Применяет эффект (функцию) к значению, напр. к урону или AC.\"\"\"\n",
        "    return effect_func(value)\n",
        "\n",
        "def bless(x):      # +1 к броскам (упрощённо)\n",
        "    return x + 1\n",
        "\n",
        "assert apply_effect(bless, 14) == 15"
      ]
    },
    {
      "cell_type": "code",
      "source": [
        "def multiplier(factor: float):\n",
        "    def mul(x: float) -> float:\n",
        "        return x * factor\n",
        "    return mul\n",
        "\n",
        "double = multiplier(2.0)\n",
        "assert double(7) == 14"
      ],
      "metadata": {
        "id": "4x8fOYilmPPh"
      },
      "id": "4x8fOYilmPPh",
      "execution_count": null,
      "outputs": []
    },
    {
      "cell_type": "code",
      "source": [
        "def make_inspiration_pool():\n",
        "    points = 0\n",
        "    def add(n=1):\n",
        "        nonlocal points\n",
        "        points += n\n",
        "        return points\n",
        "    return add\n",
        "\n",
        "insp = make_inspiration_pool()\n",
        "assert (insp(), insp(2), insp()) == (1, 3, 4)\n",
        "\n",
        "print(\"Примеры 5 раздел - assert пройдены.\")"
      ],
      "metadata": {
        "id": "CtvMAqAPmRDD"
      },
      "id": "CtvMAqAPmRDD",
      "execution_count": null,
      "outputs": []
    },
    {
      "cell_type": "markdown",
      "id": "a225b895",
      "metadata": {
        "id": "a225b895"
      },
      "source": [
        "\n",
        "**Задание:**  \n",
        "1) Реализуйте `def compose(f, g)`, возвращающую новую функцию `h(x) = f(g(x))`.  \n",
        "2) Используйте `multiplier(factor)` (множитель урона).  \n",
        "3) Определите `crit(x)` — функция, удваивающая урон.  \n",
        "4) Соберите `power_attack_then_crit = compose(crit, multiplier(2))` и проверьте на числе `10`.\n",
        "\n",
        "Ниже — тесты `assert`.\n"
      ]
    },
    {
      "cell_type": "code",
      "execution_count": null,
      "id": "2071989a",
      "metadata": {
        "id": "2071989a"
      },
      "outputs": [],
      "source": [
        "# ВАШЕ РЕШЕНИЕ\n",
        "def compose(f, g):\n",
        "    # TODO: вернуть функцию h(x) = f(g(x))\n",
        "    return None  # заглушка\n",
        "\n",
        "def multiplier(factor: float):\n",
        "    # TODO: вернуть функцию, умножающую аргумент на factor\n",
        "    return None  # заглушка\n",
        "\n",
        "def crit(x: float) -> float:\n",
        "    # TODO: удвоить урон (критический удар)\n",
        "    return x  # заглушка\n",
        "\n",
        "# ТЕСТЫ\n",
        "try:\n",
        "    power_attack_then_crit = compose(crit, multiplier(2))\n",
        "    assert callable(power_attack_then_crit)\n",
        "    assert power_attack_then_crit(10) == 40  # (10*2) -> 20 -> крит -> 40\n",
        "    print(\"Задание 5 — assert пройдены (если вы это видите).\")\n",
        "except Exception as e:\n",
        "    print(\"Задание 5 — тесты не пройдены:\", e)"
      ]
    },
    {
      "cell_type": "markdown",
      "id": "36bdd70d",
      "metadata": {
        "id": "36bdd70d"
      },
      "source": [
        "\n",
        "#### **Разбор/решение:**  \n"
      ]
    },
    {
      "cell_type": "markdown",
      "source": [
        "Композиция функций позволяет собирать эффекты в цепочку применений."
      ],
      "metadata": {
        "id": "X6iOEBz2olpx"
      },
      "id": "X6iOEBz2olpx"
    },
    {
      "cell_type": "code",
      "execution_count": null,
      "id": "f6630758",
      "metadata": {
        "id": "f6630758"
      },
      "outputs": [],
      "source": [
        "# Пример решения (с assert)\n",
        "def compose(f, g):\n",
        "    def h(x):\n",
        "        return f(g(x))\n",
        "    return h\n",
        "\n",
        "def multiplier(factor: float):\n",
        "    def mul(x: float) -> float:\n",
        "        return x * factor\n",
        "    return mul\n",
        "\n",
        "def crit(x: float) -> float:\n",
        "    return x * 2\n",
        "\n",
        "power_attack_then_crit = compose(crit, multiplier(2))\n",
        "assert power_attack_then_crit(10) == 40\n",
        "print(\"Решение 5 - assert пройдены.\")"
      ]
    }
  ],
  "metadata": {
    "colab": {
      "provenance": [],
      "include_colab_link": true
    },
    "kernelspec": {
      "display_name": "Python 3",
      "name": "python3"
    }
  },
  "nbformat": 4,
  "nbformat_minor": 5
}