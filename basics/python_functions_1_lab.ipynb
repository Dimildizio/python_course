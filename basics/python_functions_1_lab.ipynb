{
  "cells": [
    {
      "cell_type": "markdown",
      "metadata": {
        "id": "view-in-github",
        "colab_type": "text"
      },
      "source": [
        "<a href=\"https://colab.research.google.com/github/Dimildizio/python_course/blob/main/basics/python_functions_1_lab.ipynb\" target=\"_parent\"><img src=\"https://colab.research.google.com/assets/colab-badge.svg\" alt=\"Open In Colab\"/></a>"
      ]
    },
    {
      "cell_type": "markdown",
      "id": "e9959c78",
      "metadata": {
        "id": "e9959c78"
      },
      "source": [
        "\n",
        "# Python Функции: задания для практики\n",
        "  \n",
        "1. Вызов функции и использование `return`  \n",
        "2. Функция как объект (передача и вызов через другую переменную)  \n",
        "3. Переопределение функций и сохранение старой версии  \n",
        "4. Область видимости: глобальные и локальные переменные  \n",
        "5. Манки-патч встроенных функций (антипаттерн)  \n",
        "\n",
        "Формат: объяснение → задание с пропусками → решение с `assert`.\n"
      ]
    },
    {
      "cell_type": "markdown",
      "id": "591f2fbc",
      "metadata": {
        "id": "591f2fbc"
      },
      "source": [
        "## 1. Вызов функции и `return`"
      ]
    },
    {
      "cell_type": "markdown",
      "id": "61571129",
      "metadata": {
        "id": "61571129"
      },
      "source": [
        "\n",
        "**Пояснение:**  \n",
        "Функция возвращает значение через `return`. Его можно сохранить в переменную и использовать в дальнейшем.\n",
        "\n",
        "Задача: Напишите функцию `damage(base, bonus)`, которая считает урон как `base + bonus`.  \n",
        "Сохраните результат в переменную и проверьте его.\n"
      ]
    },
    {
      "cell_type": "code",
      "execution_count": null,
      "id": "d4adee63",
      "metadata": {
        "id": "d4adee63"
      },
      "outputs": [],
      "source": [
        "# ЗАДАНИЕ\n",
        "def :\n",
        "    # верните сумму base и bonus\n",
        "    ___\n",
        "\n",
        "total = damage(10, 5)\n",
        "print(___)  # ожидаем 15\n",
        "assert total == 15"
      ]
    },
    {
      "cell_type": "markdown",
      "source": [
        "### Решение"
      ],
      "metadata": {
        "id": "ZrpysAc4BRtg"
      },
      "id": "ZrpysAc4BRtg"
    },
    {
      "cell_type": "code",
      "execution_count": null,
      "id": "6ad41122",
      "metadata": {
        "id": "6ad41122"
      },
      "outputs": [],
      "source": [
        "\n",
        "def damage(base, bonus):\n",
        "    return base + bonus\n",
        "\n",
        "total = damage(10, 5)\n",
        "assert total == 15\n",
        "print(\"Задание 1 пройдено\")"
      ]
    },
    {
      "cell_type": "markdown",
      "id": "1f95c7b3",
      "metadata": {
        "id": "1f95c7b3"
      },
      "source": [
        "## 2. Функция как объект"
      ]
    },
    {
      "cell_type": "markdown",
      "id": "e1408656",
      "metadata": {
        "id": "e1408656"
      },
      "source": [
        "\n",
        "**Пояснение:**  \n",
        "Функцию можно присвоить другой переменной и вызвать через неё. Также функцию можно передать в другую функцию.\n",
        "\n",
        "Задача: Напишите функцию `greet(name)`, которая печатает строку `Привет, {name}!`.  \n",
        "Сохраните её в переменную `hello`, а затем передайте в функцию `call_twice(f, arg)`, которая вызывает функцию дважды.\n"
      ]
    },
    {
      "cell_type": "code",
      "execution_count": null,
      "id": "0c836149",
      "metadata": {
        "id": "0c836149"
      },
      "outputs": [],
      "source": [
        "# ЗАДАНИЕ\n",
        "def greet(name):\n",
        "    print(\"Привет, ___!\")\n",
        "\n",
        "def call_twice(f, arg):\n",
        "    # вызовите f дважды\n",
        "    ___\n",
        "    ___\n",
        "\n",
        "hello = ___\n",
        "call_twice(hello, \"Тесс\")"
      ]
    },
    {
      "cell_type": "markdown",
      "source": [
        "### Решение"
      ],
      "metadata": {
        "id": "_1U6132UBhDd"
      },
      "id": "_1U6132UBhDd"
    },
    {
      "cell_type": "code",
      "execution_count": null,
      "id": "4631217c",
      "metadata": {
        "id": "4631217c"
      },
      "outputs": [],
      "source": [
        "def greet(name):\n",
        "    print(f\"Привет, {name}!\")\n",
        "\n",
        "def call_twice(f, arg):\n",
        "    f(arg)\n",
        "    f(arg)\n",
        "\n",
        "\n",
        "hello = greet\n",
        "call_twice(hello, \"Тесс\")"
      ]
    },
    {
      "cell_type": "markdown",
      "id": "c7fd17c0",
      "metadata": {
        "id": "c7fd17c0"
      },
      "source": [
        "## 3. Переопределение функций"
      ]
    },
    {
      "cell_type": "markdown",
      "id": "739059ca",
      "metadata": {
        "id": "739059ca"
      },
      "source": [
        "\n",
        "**Пояснение:**  \n",
        "Если определить функцию повторно с тем же именем, новая версия заменяет старую.  \n",
        "Иногда полезно сохранить старую версию, чтобы вызвать её внутри новой.\n",
        "\n",
        "Задача: Сначала сделайте функцию `roll()`, которая всегда возвращает `1`.  \n",
        "Затем сохраните её в переменную `old_roll` и переопределите `roll()`, чтобы она возвращала `2`, но ещё печатала результат старой версии.\n"
      ]
    },
    {
      "cell_type": "code",
      "execution_count": null,
      "id": "32a64dca",
      "metadata": {
        "id": "32a64dca"
      },
      "outputs": [],
      "source": [
        "# ЗАДАНИЕ\n",
        "def roll():\n",
        "    return ___\n",
        "\n",
        "old_roll = ___\n",
        "\n",
        "def roll():\n",
        "    print(\"Старая версия:\", old_roll())\n",
        "    return ___\n",
        "\n",
        "\n",
        "# ожидаем печать \"Старая версия: 1\" и возврат 2"
      ]
    },
    {
      "cell_type": "markdown",
      "source": [
        "### Решение"
      ],
      "metadata": {
        "id": "6NPQ9Qr_CC-p"
      },
      "id": "6NPQ9Qr_CC-p"
    },
    {
      "cell_type": "code",
      "execution_count": null,
      "id": "77649496",
      "metadata": {
        "id": "77649496"
      },
      "outputs": [],
      "source": [
        "# РЕШЕНИЕ\n",
        "def roll():\n",
        "    return 1\n",
        "\n",
        "old_roll = roll\n",
        "\n",
        "def roll():\n",
        "    print(\"Старая версия:\", old_roll())\n",
        "    return 2\n",
        "\n",
        "val = roll()\n",
        "# ожидаем вывод: \"Старая версия: 1\"\n",
        "print(\"Новая версия:\", val)\n",
        "assert val == 2\n",
        "print(\"Задание 3 пройдено\")\n"
      ]
    },
    {
      "cell_type": "markdown",
      "id": "9bcd14e7",
      "metadata": {
        "id": "9bcd14e7"
      },
      "source": [
        "## 4. Область видимости: global и local"
      ]
    },
    {
      "cell_type": "markdown",
      "id": "23d18f12",
      "metadata": {
        "id": "23d18f12"
      },
      "source": [
        "\n",
        "**Пояснение:**  \n",
        "Переменные внутри функции локальные. Чтобы изменить глобальную переменную, нужно использовать `global` (А лучше не надо вообще), лучше - возвращать значение и присваивать его снаружи.\n",
        "\n",
        "Задача:  \n",
        "1. Сделайте глобальную переменную `mana = 5`.  \n",
        "2. Функция `use_spell(cost)` должна уменьшать глобальную `mana` через `global`.  \n",
        "3. Дополнительно сделайте функцию `safe_use_spell(cost, mana)` без `global`, которая возвращает новое значение.\n"
      ]
    },
    {
      "cell_type": "code",
      "execution_count": null,
      "id": "77689d94",
      "metadata": {
        "id": "77689d94"
      },
      "outputs": [],
      "source": [
        "# ЗАДАНИЕ\n",
        "mana = 5\n",
        "\n",
        "def use_spell(cost):\n",
        "  # .используйте global\n",
        "    ___ mana\n",
        "    mana = mana - ___\n",
        "\n",
        "def safe_use_spell(cost, mana):\n",
        "    # верните новое значение без global\n",
        "    return ___\n",
        "\n",
        "use_spell(2)\n",
        "print(mana)  # ожидаем 3\n",
        "print(safe_use_spell(2, 10))  # ожидаем 8"
      ]
    },
    {
      "cell_type": "markdown",
      "source": [
        "### Решение"
      ],
      "metadata": {
        "id": "lcz_3BLNC6l_"
      },
      "id": "lcz_3BLNC6l_"
    },
    {
      "cell_type": "code",
      "execution_count": null,
      "id": "47260cb2",
      "metadata": {
        "id": "47260cb2"
      },
      "outputs": [],
      "source": [
        "# РЕШЕНИЕ\n",
        "mana = 5\n",
        "\n",
        "def use_spell(cost):\n",
        "    global mana\n",
        "    mana = mana - cost\n",
        "\n",
        "def safe_use_spell(cost, mana):\n",
        "    return mana - cost\n",
        "\n",
        "use_spell(2)\n",
        "assert mana == 3\n",
        "assert safe_use_spell(2, 10) == 8\n",
        "print(\"Задание 4 пройдено\")"
      ]
    },
    {
      "cell_type": "markdown",
      "id": "9ce02ff5",
      "metadata": {
        "id": "9ce02ff5"
      },
      "source": [
        "## 5. Манки-патч встроенных функций (антипаттерн)"
      ]
    },
    {
      "cell_type": "markdown",
      "id": "393f2b29",
      "metadata": {
        "id": "393f2b29"
      },
      "source": [
        "\n",
        "**Пояснение:**  \n",
        "Функции — это объекты, и можно даже переписать встроенные функции. Это называется **манки-патч**.  \n",
        "Обычно это плохая практика, но полезно знать, что так делать можно.\n",
        "\n",
        "Задача:  \n",
        "1. Проверьте нормальное поведение `len(\"abc\")`.  \n",
        "2. Переопределите `len`, чтобы оно всегда возвращало `100`.  \n",
        "3. Проверьте результат.\n"
      ]
    },
    {
      "cell_type": "code",
      "execution_count": null,
      "id": "65a82c91",
      "metadata": {
        "id": "65a82c91"
      },
      "outputs": [],
      "source": [
        "# ЗАДАНИЕ\n",
        "print(len(\"abc\"))  # обычно 3\n",
        "\n",
        "def len(x):\n",
        "    return ___\n",
        "\n",
        "print(len(\"abc\"))  # ожидаем 100"
      ]
    },
    {
      "cell_type": "markdown",
      "source": [
        "### Решение"
      ],
      "metadata": {
        "id": "CTvxrofRDAR0"
      },
      "id": "CTvxrofRDAR0"
    },
    {
      "cell_type": "code",
      "execution_count": null,
      "id": "29a3f390",
      "metadata": {
        "id": "29a3f390"
      },
      "outputs": [],
      "source": [
        "# РЕШЕНИЕ\n",
        "print(len(\"abc\"))  # 3\n",
        "\n",
        "def len(x):\n",
        "    return 100\n",
        "\n",
        "assert len(\"abc\") == 100\n",
        "print(\"Задание 5 пройдено\")"
      ]
    },
    {
      "cell_type": "markdown",
      "source": [
        "На этом месте стоветую перезапустить ноутбук чтоб нормально вновь пользоваться встроенной функцией len()  (`navigation panel->runtime->restart session`)"
      ],
      "metadata": {
        "id": "PJ3AramqDDAl"
      },
      "id": "PJ3AramqDDAl"
    },
    {
      "cell_type": "markdown",
      "id": "e65cef28",
      "metadata": {
        "id": "e65cef28"
      },
      "source": [
        "# Дополнительные задания (6–9)"
      ]
    },
    {
      "cell_type": "markdown",
      "id": "eba87b01",
      "metadata": {
        "id": "eba87b01"
      },
      "source": [
        "## 6. Позиционные аргументы"
      ]
    },
    {
      "cell_type": "markdown",
      "id": "6e596250",
      "metadata": {
        "id": "6e596250"
      },
      "source": [
        "\n",
        "**Пояснение:**  \n",
        "Аргументы в функцию можно передавать по порядку (позиционные).\n",
        "\n",
        "Задача:  \n",
        "Напишите функцию `attack(name, target, damage)`, которая возвращает строку вида  \n",
        "`\"{name} атакует {target} и наносит {damage} урона\"`.  \n",
        "Используйте только позиционные аргументы.\n"
      ]
    },
    {
      "cell_type": "code",
      "execution_count": null,
      "id": "5e1b297d",
      "metadata": {
        "id": "5e1b297d"
      },
      "outputs": [],
      "source": [
        "# ЗАДАНИЕ\n",
        "def attack(name, target, damage):\n",
        "    return f\"___ атакует ___ и наносит ___ урона\"\n",
        "\n",
        "print(attack(\"Урка\", \"Орка\", 7))  # ожидаем строку с числами и словами"
      ]
    },
    {
      "cell_type": "code",
      "execution_count": null,
      "id": "36e1c2dc",
      "metadata": {
        "id": "36e1c2dc"
      },
      "outputs": [],
      "source": [
        "# РЕШЕНИЕ\n",
        "def attack(name, target, damage):\n",
        "    return f\"{name} атакует {target} и наносит {damage} урона\"\n",
        "\n",
        "assert attack(\"Урка\", \"Орка\", 7) == \"Урка атакует Орка и наносит 7 урона\"\n",
        "print(\"Задание 6 пройдено\")"
      ]
    },
    {
      "cell_type": "markdown",
      "id": "3d9f5ec8",
      "metadata": {
        "id": "3d9f5ec8"
      },
      "source": [
        "## 7. Аргументы со значением по умолчанию"
      ]
    },
    {
      "cell_type": "markdown",
      "id": "6bcaa30d",
      "metadata": {
        "id": "6bcaa30d"
      },
      "source": [
        "\n",
        "**Пояснение:**  \n",
        "Можно задавать аргументам значения по умолчанию. Если аргумент не передан - берётся дефолт. Определяем его на моменте когда задаем аргумент, с помощью `=`\n",
        "\n",
        "Задача:  \n",
        "Сделайте функцию `heal(hp, amount=10)`, которая возвращает новое количество HP после лечения.\n"
      ]
    },
    {
      "cell_type": "code",
      "execution_count": null,
      "id": "4cc24a65",
      "metadata": {
        "id": "4cc24a65"
      },
      "outputs": [],
      "source": [
        "# ЗАДАНИЕ\n",
        "def heal(__, _____________):\n",
        "    return ___\n",
        "\n",
        "print(heal(20))      # ожидаем 30\n",
        "print(heal(20, 5))   # ожидаем 25"
      ]
    },
    {
      "cell_type": "markdown",
      "source": [
        "### Решение"
      ],
      "metadata": {
        "id": "zhSNrE_TDwpv"
      },
      "id": "zhSNrE_TDwpv"
    },
    {
      "cell_type": "code",
      "execution_count": null,
      "id": "f53a7e88",
      "metadata": {
        "id": "f53a7e88"
      },
      "outputs": [],
      "source": [
        "# РЕШЕНИЕ\n",
        "def heal(hp, amount=10):\n",
        "    return hp + amount\n",
        "\n",
        "assert heal(20) == 30\n",
        "assert heal(20, 5) == 25\n",
        "print(\"Задание 7 пройдено\")"
      ]
    },
    {
      "cell_type": "markdown",
      "id": "cc0e3904",
      "metadata": {
        "id": "cc0e3904"
      },
      "source": [
        "## 8. Аннотации типов (type hints)"
      ]
    },
    {
      "cell_type": "markdown",
      "id": "b3e955f3",
      "metadata": {
        "id": "b3e955f3"
      },
      "source": [
        "\n",
        "**Пояснение:**  \n",
        "Аннотации помогают понимать, какие типы данных ожидает функция. Они не влияют на выполнение, но помогают читать код. Это своего рода \"мягкий намек\" что функция ожидает на входе и должна отдавать на выходе.\n",
        "\n",
        "Задача:  \n",
        "Сделайте функцию `multiply(a: int, b: int) -> int`, которая возвращает произведение.  \n",
        "Добавьте корректные аннотации типов.\n"
      ]
    },
    {
      "cell_type": "code",
      "execution_count": null,
      "id": "ae4f209c",
      "metadata": {
        "id": "ae4f209c"
      },
      "outputs": [],
      "source": [
        "# ЗАДАНИЕ\n",
        "def multiply(a: int, b: int) -> int:\n",
        "    return ___\n",
        "\n",
        "print(multiply(2, 3))  # ожидаем 6"
      ]
    },
    {
      "cell_type": "markdown",
      "source": [
        "### Решение"
      ],
      "metadata": {
        "id": "pHfLjsdID1uB"
      },
      "id": "pHfLjsdID1uB"
    },
    {
      "cell_type": "code",
      "execution_count": null,
      "id": "d3696d01",
      "metadata": {
        "id": "d3696d01"
      },
      "outputs": [],
      "source": [
        "# РЕШЕНИЕ\n",
        "def multiply(a: int, b: int) -> int:\n",
        "    return a * b\n",
        "\n",
        "assert multiply(2, 3) == 6\n",
        "assert multiply(-1, 5) == -5\n",
        "print(\"Задание 8 пройдено\")"
      ]
    },
    {
      "cell_type": "markdown",
      "id": "4d9ed0c2",
      "metadata": {
        "id": "4d9ed0c2"
      },
      "source": [
        "## 9. Локальные и глобальные переменные без `global`"
      ]
    },
    {
      "cell_type": "markdown",
      "id": "1c2239cf",
      "metadata": {
        "id": "1c2239cf"
      },
      "source": [
        "\n",
        "**Пояснение:**  \n",
        "Иногда лучше не использовать `global`, а возвращать значение и обновлять переменную вручную.\n",
        "\n",
        "Задача:  \n",
        "Сделайте функцию `gain_exp(exp, gained)`, которая возвращает новое значение опыта.  \n",
        "Используйте локальные переменные.  \n",
        "Присвойте результат глобальной переменной `exp_points` (таким образом мы обновили ее значение).\n"
      ]
    },
    {
      "cell_type": "code",
      "execution_count": null,
      "id": "90a1bff8",
      "metadata": {
        "id": "90a1bff8"
      },
      "outputs": [],
      "source": [
        "# ЗАДАНИЕ\n",
        "exp_points = 0\n",
        "\n",
        "def gain_exp(exp, gained):\n",
        "    return ___\n",
        "\n",
        "exp_points = gain_exp(exp_points, 50)\n",
        "print(exp_points)  # ожидаем 50"
      ]
    },
    {
      "cell_type": "markdown",
      "source": [
        "### Решение"
      ],
      "metadata": {
        "id": "NQya7w6XELOP"
      },
      "id": "NQya7w6XELOP"
    },
    {
      "cell_type": "code",
      "execution_count": null,
      "id": "ff12ae57",
      "metadata": {
        "id": "ff12ae57"
      },
      "outputs": [],
      "source": [
        "# РЕШЕНИЕ\n",
        "exp_points = 0\n",
        "\n",
        "def gain_exp(exp, gained):\n",
        "    return exp + gained\n",
        "\n",
        "exp_points = gain_exp(exp_points, 50)\n",
        "assert exp_points == 50\n",
        "print(\"Задание 9 пройдено\")"
      ]
    }
  ],
  "metadata": {
    "colab": {
      "provenance": [],
      "include_colab_link": true
    },
    "kernelspec": {
      "display_name": "Python 3",
      "name": "python3"
    }
  },
  "nbformat": 4,
  "nbformat_minor": 5
}